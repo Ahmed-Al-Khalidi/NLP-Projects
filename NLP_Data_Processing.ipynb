{
 "cells": [
  {
   "cell_type": "markdown",
   "id": "9f5a735a-ac8e-4770-98f4-22054a8c1495",
   "metadata": {},
   "source": [
    "# Include Libraries "
   ]
  },
  {
   "cell_type": "code",
   "execution_count": 7,
   "id": "e46cc7eb-ef9c-4fa5-817e-1e9df8de1be5",
   "metadata": {},
   "outputs": [],
   "source": [
    "import pandas as pd\n",
    "import numpy as np\n",
    "import tensorflow as tf\n",
    "from sklearn.feature_extraction.text import ENGLISH_STOP_WORDS\n",
    "import string"
   ]
  },
  {
   "cell_type": "markdown",
   "id": "6934ed43-5363-4b4e-a3bc-2a91f23a2344",
   "metadata": {},
   "source": [
    "# Processing Steps:\n",
    "### Lowercasing the text\n",
    "### Removing Stop Words from the text\n",
    "### Removing Punctuation Marks from the text \n",
    "### Tokenization the text\n",
    "### One-Hot Encoding for each token\n",
    "### Embedding Layer"
   ]
  },
  {
   "cell_type": "markdown",
   "id": "8da5f5aa-a8cc-4412-9ef1-c397906464a3",
   "metadata": {},
   "source": [
    "# Read Text Data Functions"
   ]
  },
  {
   "cell_type": "code",
   "execution_count": 8,
   "id": "44fae3e4-c05b-4945-a106-84ebf280a23a",
   "metadata": {},
   "outputs": [],
   "source": [
    "def read_txt_file(file_path):\n",
    "    \"\"\"Read text data from a .txt file.\"\"\"\n",
    "    with open(file_path, 'r') as file:\n",
    "        data = file.readlines()\n",
    "    return data\n",
    "\n",
    "def read_csv_file(file_path):\n",
    "    \"\"\"Read text data from a .csv file.\"\"\"\n",
    "    df = pd.read_csv(file_path)\n",
    "    return df['text'].tolist()\n",
    "\n",
    "def combine_datasets(*datasets):\n",
    "    \"\"\"Combine multiple datasets into one.\"\"\"\n",
    "    combined_data = []\n",
    "    for dataset in datasets:\n",
    "        combined_data.extend(dataset)\n",
    "    return combined_data"
   ]
  },
  {
   "cell_type": "markdown",
   "id": "10d70a83-dec9-4aed-8978-65f6b6115ac6",
   "metadata": {},
   "source": [
    "# NLP Processing Functions"
   ]
  },
  {
   "cell_type": "code",
   "execution_count": 9,
   "id": "ddc29a80-60bc-4bc6-a539-b0e418caefb4",
   "metadata": {},
   "outputs": [],
   "source": [
    "def preprocess_text(text):\n",
    "    \"\"\"Preprocess text data.\"\"\"\n",
    "    # Lowercasing the text\n",
    "    text = text.lower()\n",
    "    # Removing Stop Words from the text\n",
    "    stopwords = ENGLISH_STOP_WORDS\n",
    "    text = ' '.join([word for word in text.split() if word not in stopwords])\n",
    "    # Removing Punctuation Marks from the text\n",
    "    text = text.translate(str.maketrans('', '', string.punctuation))\n",
    "    return text\n",
    "\n",
    "def tokenize_text(texts):\n",
    "    \"\"\"Tokenize the text.\"\"\"\n",
    "    tokenizer = tf.keras.preprocessing.text.Tokenizer()\n",
    "    tokenizer.fit_on_texts(texts)\n",
    "    tokenized_texts = tokenizer.texts_to_sequences(texts)\n",
    "    return tokenized_texts, tokenizer\n",
    "\n",
    "def pad_sequences(tokenized_texts, max_length):\n",
    "    \"\"\"Pad sequences to ensure uniform length.\"\"\"\n",
    "    padded_sequences = tf.keras.preprocessing.sequence.pad_sequences(tokenized_texts, maxlen=max_length, padding='post')\n",
    "    return padded_sequences\n",
    "\n",
    "def embed_text(padded_sequences, input_dim, embedding_dim):\n",
    "    \"\"\"Embed the tokenized texts.\"\"\"\n",
    "    model = tf.keras.Sequential([\n",
    "        tf.keras.layers.Embedding(input_dim=input_dim, output_dim=embedding_dim)\n",
    "    ])\n",
    "    embedded_texts = model.predict(padded_sequences)\n",
    "    return embedded_texts\n",
    "\n",
    "def save_embedding(embeddings, file_path):\n",
    "    \"\"\"Save the embedding result as a numpy file.\"\"\"\n",
    "    np.save(file_path, embeddings)\n",
    "\n",
    "\n"
   ]
  },
  {
   "cell_type": "markdown",
   "id": "5cc1898c-1eb4-41ff-8e34-b16040739f3a",
   "metadata": {},
   "source": [
    "# Example usage:"
   ]
  },
  {
   "cell_type": "code",
   "execution_count": 15,
   "id": "b2adf9b3-9aed-4dbc-b6fc-1c7f25248e77",
   "metadata": {},
   "outputs": [],
   "source": [
    "# Read text data from files\n",
    "data_from_txt = read_txt_file('data.txt')\n",
    "data_from_csv = read_csv_file('data.csv')"
   ]
  },
  {
   "cell_type": "code",
   "execution_count": 16,
   "id": "b343fa66-12a2-4003-b405-c225ab305ff1",
   "metadata": {},
   "outputs": [],
   "source": [
    "# Preprocess text data\n",
    "preprocessed_data = [preprocess_text(text) for text in combine_datasets(data_from_txt, data_from_csv)]"
   ]
  },
  {
   "cell_type": "code",
   "execution_count": 17,
   "id": "2b4fedb7-dba9-4e0a-ae1d-4c83689218ca",
   "metadata": {},
   "outputs": [],
   "source": [
    "# Tokenize the preprocessed text and get the vocabulary size\n",
    "tokenized_texts, tokenizer = tokenize_text(preprocessed_data)\n",
    "vocab_size = len(tokenizer.word_index) + 1  # Add 1 for the padding token\n"
   ]
  },
  {
   "cell_type": "code",
   "execution_count": 18,
   "id": "235da946-a075-4521-8d26-a7b1dddea14a",
   "metadata": {},
   "outputs": [],
   "source": [
    "# Pad sequences to ensure uniform length\n",
    "max_length = max([len(tokens) for tokens in tokenized_texts])\n",
    "padded_sequences = pad_sequences(tokenized_texts, max_length=max_length)"
   ]
  },
  {
   "cell_type": "code",
   "execution_count": 19,
   "id": "7549f1f9-1c1c-45d1-941c-9db3981ac53c",
   "metadata": {},
   "outputs": [
    {
     "name": "stdout",
     "output_type": "stream",
     "text": [
      "9/9 [==============================] - 0s 1ms/step\n"
     ]
    }
   ],
   "source": [
    "# Embed the padded sequences\n",
    "embedded_texts = embed_text(padded_sequences, input_dim=vocab_size, embedding_dim=10)"
   ]
  },
  {
   "cell_type": "code",
   "execution_count": 22,
   "id": "5d5fa015-37a3-49cc-8811-650b82c8aa69",
   "metadata": {
    "scrolled": true
   },
   "outputs": [
    {
     "data": {
      "text/plain": [
       "array([[-4.13022935e-04,  2.82572843e-02, -2.99137719e-02,\n",
       "         3.06217708e-02,  4.08312194e-02,  4.28198613e-02,\n",
       "         7.62728602e-03,  1.42006949e-03,  4.89885323e-02,\n",
       "        -2.43740808e-02],\n",
       "       [ 2.81171240e-02,  2.10064910e-02,  4.34445627e-02,\n",
       "         4.89004701e-03, -1.24944672e-02, -4.48822975e-05,\n",
       "         1.16658807e-02, -3.01652085e-02,  4.38703187e-02,\n",
       "         4.86597531e-02],\n",
       "       [ 4.01971228e-02,  6.20117038e-03,  7.24303722e-03,\n",
       "        -4.94319201e-02,  2.52356268e-02,  3.17774750e-02,\n",
       "         1.73562057e-02, -1.08530298e-02, -2.85205133e-02,\n",
       "        -4.95767705e-02],\n",
       "       [ 1.23345740e-02,  1.25705861e-02,  2.74707712e-02,\n",
       "         3.15669067e-02,  1.50453709e-02, -1.60153955e-03,\n",
       "         1.55238248e-02, -1.23540163e-02, -2.34242529e-03,\n",
       "        -2.55083088e-02],\n",
       "       [-1.43895745e-02,  2.45445706e-02, -1.90626383e-02,\n",
       "        -5.71340322e-03,  2.29596533e-02, -1.45327449e-02,\n",
       "        -4.14418466e-02,  3.75697128e-02,  3.12371179e-03,\n",
       "        -3.95296216e-02],\n",
       "       [-2.32886430e-02, -3.07299029e-02,  2.59262435e-02,\n",
       "         2.15518735e-02,  4.90970649e-02,  1.52956583e-02,\n",
       "        -4.14969698e-02,  3.62299755e-03,  5.75524569e-03,\n",
       "        -4.01461944e-02],\n",
       "       [-2.91813016e-02,  6.04342669e-04, -3.04543972e-03,\n",
       "         3.94490846e-02, -1.75562017e-02,  4.22834270e-02,\n",
       "        -1.94325093e-02,  1.69952027e-02, -8.63387436e-03,\n",
       "        -8.75329971e-03],\n",
       "       [ 1.07508898e-03, -4.58027720e-02, -2.78705712e-02,\n",
       "         1.75223984e-02,  2.17023380e-02, -4.94332202e-02,\n",
       "        -2.77053714e-02, -4.73806374e-02, -3.02118547e-02,\n",
       "         2.62840278e-02],\n",
       "       [-4.33901921e-02,  1.10755935e-02,  3.82302739e-02,\n",
       "        -3.09234150e-02,  2.52726190e-02, -4.61480506e-02,\n",
       "        -3.05612814e-02, -3.86009105e-02, -2.15831641e-02,\n",
       "        -7.54851103e-03],\n",
       "       [ 3.33409570e-02, -4.79984060e-02,  9.48697329e-03,\n",
       "         4.33536619e-03, -3.29957604e-02,  1.74153969e-03,\n",
       "        -4.14277688e-02, -2.43956689e-02, -2.99818050e-02,\n",
       "         1.07058175e-02],\n",
       "       [-3.36649306e-02, -2.52003595e-03,  3.85836996e-02,\n",
       "         2.18898915e-02,  3.32902931e-02,  2.58411095e-03,\n",
       "         4.88424636e-02,  3.71433012e-02, -1.80229433e-02,\n",
       "         3.22169699e-02],\n",
       "       [-3.36649306e-02, -2.52003595e-03,  3.85836996e-02,\n",
       "         2.18898915e-02,  3.32902931e-02,  2.58411095e-03,\n",
       "         4.88424636e-02,  3.71433012e-02, -1.80229433e-02,\n",
       "         3.22169699e-02],\n",
       "       [-3.36649306e-02, -2.52003595e-03,  3.85836996e-02,\n",
       "         2.18898915e-02,  3.32902931e-02,  2.58411095e-03,\n",
       "         4.88424636e-02,  3.71433012e-02, -1.80229433e-02,\n",
       "         3.22169699e-02],\n",
       "       [-3.36649306e-02, -2.52003595e-03,  3.85836996e-02,\n",
       "         2.18898915e-02,  3.32902931e-02,  2.58411095e-03,\n",
       "         4.88424636e-02,  3.71433012e-02, -1.80229433e-02,\n",
       "         3.22169699e-02],\n",
       "       [-3.36649306e-02, -2.52003595e-03,  3.85836996e-02,\n",
       "         2.18898915e-02,  3.32902931e-02,  2.58411095e-03,\n",
       "         4.88424636e-02,  3.71433012e-02, -1.80229433e-02,\n",
       "         3.22169699e-02],\n",
       "       [-3.36649306e-02, -2.52003595e-03,  3.85836996e-02,\n",
       "         2.18898915e-02,  3.32902931e-02,  2.58411095e-03,\n",
       "         4.88424636e-02,  3.71433012e-02, -1.80229433e-02,\n",
       "         3.22169699e-02],\n",
       "       [-3.36649306e-02, -2.52003595e-03,  3.85836996e-02,\n",
       "         2.18898915e-02,  3.32902931e-02,  2.58411095e-03,\n",
       "         4.88424636e-02,  3.71433012e-02, -1.80229433e-02,\n",
       "         3.22169699e-02],\n",
       "       [-3.36649306e-02, -2.52003595e-03,  3.85836996e-02,\n",
       "         2.18898915e-02,  3.32902931e-02,  2.58411095e-03,\n",
       "         4.88424636e-02,  3.71433012e-02, -1.80229433e-02,\n",
       "         3.22169699e-02],\n",
       "       [-3.36649306e-02, -2.52003595e-03,  3.85836996e-02,\n",
       "         2.18898915e-02,  3.32902931e-02,  2.58411095e-03,\n",
       "         4.88424636e-02,  3.71433012e-02, -1.80229433e-02,\n",
       "         3.22169699e-02],\n",
       "       [-3.36649306e-02, -2.52003595e-03,  3.85836996e-02,\n",
       "         2.18898915e-02,  3.32902931e-02,  2.58411095e-03,\n",
       "         4.88424636e-02,  3.71433012e-02, -1.80229433e-02,\n",
       "         3.22169699e-02],\n",
       "       [-3.36649306e-02, -2.52003595e-03,  3.85836996e-02,\n",
       "         2.18898915e-02,  3.32902931e-02,  2.58411095e-03,\n",
       "         4.88424636e-02,  3.71433012e-02, -1.80229433e-02,\n",
       "         3.22169699e-02],\n",
       "       [-3.36649306e-02, -2.52003595e-03,  3.85836996e-02,\n",
       "         2.18898915e-02,  3.32902931e-02,  2.58411095e-03,\n",
       "         4.88424636e-02,  3.71433012e-02, -1.80229433e-02,\n",
       "         3.22169699e-02],\n",
       "       [-3.36649306e-02, -2.52003595e-03,  3.85836996e-02,\n",
       "         2.18898915e-02,  3.32902931e-02,  2.58411095e-03,\n",
       "         4.88424636e-02,  3.71433012e-02, -1.80229433e-02,\n",
       "         3.22169699e-02],\n",
       "       [-3.36649306e-02, -2.52003595e-03,  3.85836996e-02,\n",
       "         2.18898915e-02,  3.32902931e-02,  2.58411095e-03,\n",
       "         4.88424636e-02,  3.71433012e-02, -1.80229433e-02,\n",
       "         3.22169699e-02],\n",
       "       [-3.36649306e-02, -2.52003595e-03,  3.85836996e-02,\n",
       "         2.18898915e-02,  3.32902931e-02,  2.58411095e-03,\n",
       "         4.88424636e-02,  3.71433012e-02, -1.80229433e-02,\n",
       "         3.22169699e-02],\n",
       "       [-3.36649306e-02, -2.52003595e-03,  3.85836996e-02,\n",
       "         2.18898915e-02,  3.32902931e-02,  2.58411095e-03,\n",
       "         4.88424636e-02,  3.71433012e-02, -1.80229433e-02,\n",
       "         3.22169699e-02],\n",
       "       [-3.36649306e-02, -2.52003595e-03,  3.85836996e-02,\n",
       "         2.18898915e-02,  3.32902931e-02,  2.58411095e-03,\n",
       "         4.88424636e-02,  3.71433012e-02, -1.80229433e-02,\n",
       "         3.22169699e-02],\n",
       "       [-3.36649306e-02, -2.52003595e-03,  3.85836996e-02,\n",
       "         2.18898915e-02,  3.32902931e-02,  2.58411095e-03,\n",
       "         4.88424636e-02,  3.71433012e-02, -1.80229433e-02,\n",
       "         3.22169699e-02]], dtype=float32)"
      ]
     },
     "execution_count": 22,
     "metadata": {},
     "output_type": "execute_result"
    }
   ],
   "source": [
    "embedded_texts[1]"
   ]
  },
  {
   "cell_type": "code",
   "execution_count": 20,
   "id": "206fecf2-fb3d-44dc-bb81-4c6fa693c340",
   "metadata": {},
   "outputs": [],
   "source": [
    "# Save the embedding result as a numpy file\n",
    "save_embedding(embedded_texts, 'embedding_result.npy')"
   ]
  },
  {
   "cell_type": "code",
   "execution_count": null,
   "id": "69ba1272-f70a-49ec-bef1-9c4c0db7ae51",
   "metadata": {},
   "outputs": [],
   "source": []
  }
 ],
 "metadata": {
  "kernelspec": {
   "display_name": "tensorflow_env",
   "language": "python",
   "name": "tensorflow_env"
  },
  "language_info": {
   "codemirror_mode": {
    "name": "ipython",
    "version": 3
   },
   "file_extension": ".py",
   "mimetype": "text/x-python",
   "name": "python",
   "nbconvert_exporter": "python",
   "pygments_lexer": "ipython3",
   "version": "3.10.13"
  }
 },
 "nbformat": 4,
 "nbformat_minor": 5
}
