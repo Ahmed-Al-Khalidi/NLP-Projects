{
 "cells": [
  {
   "cell_type": "code",
   "execution_count": 2,
   "id": "17036820-17c8-4084-a84c-36129dff0622",
   "metadata": {},
   "outputs": [],
   "source": [
    "from faker import Faker\n",
    "import pandas as pd\n",
    "import random\n",
    "\n",
    "# Initialize Faker\n",
    "fake = Faker()\n",
    "\n",
    "# Generate fake data\n",
    "num_samples = 100\n",
    "fake_data = [{'text': fake.text()} for _ in range(num_samples)]\n",
    "# Add labels randomly\n",
    "for data in fake_data:\n",
    "    data['label'] = random.choice([0, 1])\n",
    "\n",
    "# Create DataFrame\n",
    "df_fake = pd.DataFrame(fake_data)\n",
    "\n",
    "# Save DataFrame to CSV\n",
    "df_fake.to_csv('data.csv', index=False)\n",
    "\n",
    "# Save text data to TXT\n",
    "with open('data.txt', 'w') as file:\n",
    "    for text in df_fake['text']:\n",
    "        file.write(text + '\\n')\n"
   ]
  },
  {
   "cell_type": "code",
   "execution_count": null,
   "id": "d162ecea-3569-48a3-8f79-c7e0c950db32",
   "metadata": {},
   "outputs": [],
   "source": []
  }
 ],
 "metadata": {
  "kernelspec": {
   "display_name": "tensorflow_env",
   "language": "python",
   "name": "tensorflow_env"
  },
  "language_info": {
   "codemirror_mode": {
    "name": "ipython",
    "version": 3
   },
   "file_extension": ".py",
   "mimetype": "text/x-python",
   "name": "python",
   "nbconvert_exporter": "python",
   "pygments_lexer": "ipython3",
   "version": "3.10.13"
  }
 },
 "nbformat": 4,
 "nbformat_minor": 5
}
